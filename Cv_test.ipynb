{
 "cells": [
  {
   "cell_type": "code",
   "execution_count": 1,
   "metadata": {},
   "outputs": [],
   "source": [
    "import numpy as np\n",
    "import cv2\n",
    "from skimage.measure import label, regionprops"
   ]
  },
  {
   "cell_type": "code",
   "execution_count": 20,
   "metadata": {},
   "outputs": [
    {
     "name": "stdout",
     "output_type": "stream",
     "text": [
      "(17, 20, 1)\n",
      "(15, 20, 1)\n",
      "(15, 20, 1)\n",
      "(20, 19, 1)\n",
      "(18, 22, 1)\n",
      "(19, 19, 1)\n"
     ]
    }
   ],
   "source": [
    "import h5py\n",
    "import tensorflow as tf\n",
    "\n",
    "with h5py.File(r\"W:\\real_world_sample01.pre\", 'r') as file:\n",
    "    dataset = file['phase']['images'] #Creates a dataset with the phase images\n",
    "    image_tensor = np.array(dataset[0]) #Converts only the first element to an array (FOR TESTING ONLY)\n",
    "    image_int8 = image_tensor.astype(np.uint8) #Converts the array to UINT8 type for CV processing\n",
    "    _, binary_image = cv2.threshold(image_int8, 0, 255, cv2.THRESH_BINARY + cv2.THRESH_OTSU) #Creates a binary image from the data\n",
    "\n",
    "    \n",
    "    labeled_image = label(binary_image) #Changes all values closed together to be part of the same cluster\n",
    "    regions = regionprops(labeled_image) #Extracts the relevant information from the cells, including the bounding box\n",
    "    all_cells = []\n",
    "    for region in regions: #Loops through id'd regions, crops them from original and add them to list\n",
    "        minr, minc, maxr, maxc = region.bbox\n",
    "        cell_image = image_tensor[minr:maxr, minc:maxc]\n",
    "        cell_tf = tf.convert_to_tensor(cell_image)\n",
    "        cell_conv = tf.expand_dims(cell_tf, axis=2)\n",
    "        cell_resized = tf.image.resize_with_pad(cell_conv, 52, 52)\n",
    "        all_cells.append(cell_resized)\n",
    "\n"
   ]
  },
  {
   "cell_type": "code",
   "execution_count": 3,
   "metadata": {},
   "outputs": [
    {
     "name": "stdout",
     "output_type": "stream",
     "text": [
      "Label: 1\n",
      "Area: 248.0\n",
      "Centroid: (45.23790322580645, 209.36693548387098)\n",
      "Bbox: (37, 200, 54, 220)\n",
      "Eccentricity: 0.5497786455823023\n",
      "----------\n",
      "Label: 2\n",
      "Area: 234.0\n",
      "Centroid: (56.504273504273506, 341.2350427350427)\n",
      "Bbox: (50, 332, 65, 352)\n",
      "Eccentricity: 0.6713910932165735\n",
      "----------\n",
      "Label: 3\n",
      "Area: 229.0\n",
      "Centroid: (87.8646288209607, 142.3711790393013)\n",
      "Bbox: (81, 133, 96, 153)\n",
      "Eccentricity: 0.706851578242051\n",
      "----------\n",
      "Label: 4\n",
      "Area: 281.0\n",
      "Centroid: (305.4270462633452, 214.7081850533808)\n",
      "Bbox: (295, 206, 315, 225)\n",
      "Eccentricity: 0.44243735436848575\n",
      "----------\n",
      "Label: 5\n",
      "Area: 305.0\n",
      "Centroid: (329.3311475409836, 323.10819672131146)\n",
      "Bbox: (320, 313, 338, 335)\n",
      "Eccentricity: 0.5638029077097435\n",
      "----------\n",
      "Label: 6\n",
      "Area: 259.0\n",
      "Centroid: (363.7644787644788, 204.3166023166023)\n",
      "Bbox: (354, 195, 373, 214)\n",
      "Eccentricity: 0.685365809797975\n",
      "----------\n"
     ]
    }
   ],
   "source": [
    "for region in regions:\n",
    "    print(f\"Label: {region.label}\")\n",
    "    print(f\"Area: {region.area}\")\n",
    "    print(f\"Centroid: {region.centroid}\")\n",
    "    print(f\"Bbox: {region.bbox}\")\n",
    "    print(f\"Eccentricity: {region.eccentricity}\")\n",
    "    print(\"----------\")"
   ]
  },
  {
   "cell_type": "code",
   "execution_count": 23,
   "metadata": {},
   "outputs": [
    {
     "data": {
      "image/png": "[encoded data removed]",
      "text/plain": [
       "<Figure size 640x480 with 1 Axes>"
      ]
     },
     "metadata": {},
     "output_type": "display_data"
    }
   ],
   "source": [
    "import matplotlib.pyplot as plt\n",
    "plt.imshow(all_cells[1], cmap='gray')  # 'gray' colormap for grayscale images\n",
    "plt.axis('off')  # Hide the axis ticks and labels\n",
    "plt.show()"
   ]
  },
  {
   "cell_type": "code",
   "execution_count": 24,
   "metadata": {},
   "outputs": [],
   "source": [
    "hf = h5py.File('individual_cells.h5', 'w')\n",
    "hf.create_dataset('Individual Cells', data=all_cells)\n",
    "hf.close()"
   ]
  },
  {
   "cell_type": "code",
   "execution_count": 25,
   "metadata": {},
   "outputs": [],
   "source": [
    "import os \n",
    "def read_hdf5(file_path):\n",
    "    os.environ[\"HDF5_USE_FILE_LOCKING\"] = \"FALSE\"\n",
    "    hf = h5py.File(file_path, 'r')\n",
    "    print(hf.keys())\n",
    "    return hf"
   ]
  },
  {
   "cell_type": "code",
   "execution_count": 28,
   "metadata": {},
   "outputs": [
    {
     "name": "stdout",
     "output_type": "stream",
     "text": [
      "<KeysViewHDF5 ['Individual Cells']>\n",
      "C:\\Users\\hecto\\Python VS Code\\individual_cells.h5\n",
      "  Individual Cells: (6, 52, 52, 1)\n"
     ]
    }
   ],
   "source": [
    "fpath = r'C:\\Users\\hecto\\Python VS Code\\individual_cells.h5'\n",
    "hf_pred = read_hdf5(fpath)\n",
    "\n",
    "def h5printR(item, leading = ''):\n",
    "    for key in item:\n",
    "        if isinstance(item[key], h5py.Dataset):\n",
    "            print(leading + key + ': ' + str(item[key].shape))\n",
    "        else:\n",
    "            print(leading + key)\n",
    "            h5printR(item[key], leading + '  ')\n",
    "\n",
    "# Print structure of a `.h5` file            \n",
    "def h5print(filename):\n",
    "    with h5py.File(filename, 'r') as h:\n",
    "        print(filename)\n",
    "        h5printR(h, '  ')\n",
    "\n",
    "h5print(fpath)"
   ]
  }
 ],
 "metadata": {
  "kernelspec": {
   "display_name": "Python 3",
   "language": "python",
   "name": "python3"
  },
  "language_info": {
   "codemirror_mode": {
    "name": "ipython",
    "version": 3
   },
   "file_extension": ".py",
   "mimetype": "text/x-python",
   "name": "python",
   "nbconvert_exporter": "python",
   "pygments_lexer": "ipython3",
   "version": "3.10.7"
  },
  "orig_nbformat": 4
 },
 "nbformat": 4,
 "nbformat_minor": 2
}
